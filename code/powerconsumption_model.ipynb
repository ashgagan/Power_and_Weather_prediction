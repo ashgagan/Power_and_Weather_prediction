{
 "cells": [
  {
   "cell_type": "markdown",
   "metadata": {},
   "source": [
    "# Power Consumption Model"
   ]
  },
  {
   "cell_type": "code",
   "execution_count": 6,
   "metadata": {},
   "outputs": [],
   "source": [
    "import numpy as np\n",
    "import pandas as pd\n",
    "import matplotlib.pyplot as plt\n",
    "import seaborn as sns\n",
    "from sklearn.model_selection import train_test_split\n",
    "from sklearn.ensemble import RandomForestClassifier\n",
    "from sklearn.preprocessing import StandardScaler\n",
    "from sklearn.linear_model import LogisticRegression\n",
    "from sklearn.neighbors import KNeighborsClassifier\n",
    "from sklearn.metrics import accuracy_score, precision_score, recall_score, f1_score, confusion_matrix, classification_report"
   ]
  },
  {
   "cell_type": "code",
   "execution_count": 7,
   "metadata": {},
   "outputs": [],
   "source": [
    "# load the data\n",
    "power_data = pd.read_csv('./Data/powerconsumption_cleaned.csv')\n",
    "power_df = pd.DataFrame(power_data)"
   ]
  },
  {
   "cell_type": "code",
   "execution_count": 8,
   "metadata": {},
   "outputs": [],
   "source": [
    "# Splitting the data\n",
    "X = power_df[['Temperature', 'Humidity', 'WindSpeed', 'Hour']]\n",
    "y = power_df['PowerClass']\n",
    "X_train, X_test, y_train, y_test = train_test_split(X, y, test_size=0.2, random_state=42)"
   ]
  },
  {
   "cell_type": "code",
   "execution_count": 9,
   "metadata": {},
   "outputs": [],
   "source": [
    "# Training the model\n",
    "model = RandomForestClassifier(random_state=42)\n",
    "model.fit(X_train, y_train)\n",
    "\n",
    "# Making predictions\n",
    "y_pred_RFC = model.predict(X_test)"
   ]
  },
  {
   "cell_type": "code",
   "execution_count": 10,
   "metadata": {},
   "outputs": [
    {
     "name": "stdout",
     "output_type": "stream",
     "text": [
      "Model dumped!\n"
     ]
    }
   ],
   "source": [
    "import joblib\n",
    "# Save the model\n",
    "joblib.dump(model, './models/power_consumption.pkl')\n",
    "print(\"Model dumped!\")"
   ]
  },
  {
   "cell_type": "code",
   "execution_count": 11,
   "metadata": {},
   "outputs": [
    {
     "name": "stdout",
     "output_type": "stream",
     "text": [
      "RandomForestClassifier Evaluation:\n",
      "Accuracy: 0.92\n",
      "Precision: 0.9161\n",
      "Recall: 0.92\n",
      "F1-Score: 0.92\n",
      "\n",
      "Confusion Matrix:\n",
      "[[3254   31  291]\n",
      " [   8 3268  179]\n",
      " [ 204  171 3078]]\n",
      "\n",
      "Classification Report:\n",
      "              precision    recall  f1-score   support\n",
      "\n",
      "        High       0.94      0.91      0.92      3576\n",
      "         Low       0.94      0.95      0.94      3455\n",
      "    Moderate       0.87      0.89      0.88      3453\n",
      "\n",
      "    accuracy                           0.92     10484\n",
      "   macro avg       0.92      0.92      0.92     10484\n",
      "weighted avg       0.92      0.92      0.92     10484\n",
      "\n"
     ]
    }
   ],
   "source": [
    "print(\"RandomForestClassifier Evaluation:\")\n",
    "print(f\"Accuracy: {accuracy_score(y_test, y_pred_RFC):.2f}\")\n",
    "print(f\"Precision: {precision_score(y_test, y_pred_RFC, average='macro'):.4f}\")\n",
    "print(f\"Recall: {recall_score(y_test, y_pred_RFC, average='macro'):.2f}\")\n",
    "print(f\"F1-Score: {f1_score(y_test, y_pred_RFC, average='macro'):.2f}\")\n",
    "print(\"\\nConfusion Matrix:\")\n",
    "print(confusion_matrix(y_test, y_pred_RFC))\n",
    "print(\"\\nClassification Report:\")\n",
    "print(classification_report(y_test, y_pred_RFC))"
   ]
  },
  {
   "cell_type": "code",
   "execution_count": 12,
   "metadata": {},
   "outputs": [],
   "source": [
    "# Initialize and train the Logistic Regression model\n",
    "log_reg = LogisticRegression(random_state=42)\n",
    "log_reg.fit(X_train, y_train)\n",
    "\n",
    "# Predict on the test data\n",
    "y_pred_log_reg = log_reg.predict(X_test)"
   ]
  },
  {
   "cell_type": "code",
   "execution_count": 13,
   "metadata": {},
   "outputs": [
    {
     "name": "stdout",
     "output_type": "stream",
     "text": [
      "Logistic Regression Evaluation:\n",
      "Accuracy: 0.72\n",
      "Precision: 0.7081\n",
      "Recall: 0.71\n",
      "F1-Score: 0.71\n",
      "\n",
      "Confusion Matrix:\n",
      "[[2679  253  644]\n",
      " [  26 2999  430]\n",
      " [1056  577 1820]]\n",
      "\n",
      "Classification Report:\n",
      "              precision    recall  f1-score   support\n",
      "\n",
      "        High       0.71      0.75      0.73      3576\n",
      "         Low       0.78      0.87      0.82      3455\n",
      "    Moderate       0.63      0.53      0.57      3453\n",
      "\n",
      "    accuracy                           0.72     10484\n",
      "   macro avg       0.71      0.71      0.71     10484\n",
      "weighted avg       0.71      0.72      0.71     10484\n",
      "\n"
     ]
    }
   ],
   "source": [
    "print(\"Logistic Regression Evaluation:\")\n",
    "print(f\"Accuracy: {accuracy_score(y_test, y_pred_log_reg):.2f}\")\n",
    "print(f\"Precision: {precision_score(y_test, y_pred_log_reg, average='macro'):.4f}\")\n",
    "print(f\"Recall: {recall_score(y_test, y_pred_log_reg, average='macro'):.2f}\")\n",
    "print(f\"F1-Score: {f1_score(y_test, y_pred_log_reg, average='macro'):.2f}\")\n",
    "print(\"\\nConfusion Matrix:\")\n",
    "print(confusion_matrix(y_test, y_pred_log_reg))\n",
    "print(\"\\nClassification Report:\")\n",
    "print(classification_report(y_test, y_pred_log_reg))"
   ]
  },
  {
   "cell_type": "code",
   "execution_count": 14,
   "metadata": {},
   "outputs": [],
   "source": [
    "# Initialize and train the KNN model\n",
    "knn = KNeighborsClassifier(n_neighbors=5)\n",
    "knn.fit(X_train, y_train)\n",
    "\n",
    "# Predict on the test data\n",
    "y_pred_knn = knn.predict(X_test)"
   ]
  },
  {
   "cell_type": "code",
   "execution_count": 15,
   "metadata": {},
   "outputs": [
    {
     "name": "stdout",
     "output_type": "stream",
     "text": [
      "Logistic Regression Evaluation:\n",
      "Accuracy: 0.89\n",
      "Precision: 0.8947\n",
      "Recall: 0.89\n",
      "F1-Score: 0.89\n",
      "\n",
      "Confusion Matrix:\n",
      "[[3222   44  310]\n",
      " [  22 3226  207]\n",
      " [ 281  237 2935]]\n",
      "\n",
      "Classification Report:\n",
      "              precision    recall  f1-score   support\n",
      "\n",
      "        High       0.91      0.90      0.91      3576\n",
      "         Low       0.92      0.93      0.93      3455\n",
      "    Moderate       0.85      0.85      0.85      3453\n",
      "\n",
      "    accuracy                           0.89     10484\n",
      "   macro avg       0.89      0.89      0.89     10484\n",
      "weighted avg       0.89      0.89      0.89     10484\n",
      "\n"
     ]
    }
   ],
   "source": [
    "# Evaluate k-nn\n",
    "print(\"Logistic Regression Evaluation:\")\n",
    "print(f\"Accuracy: {accuracy_score(y_test, y_pred_knn):.2f}\")\n",
    "print(f\"Precision: {precision_score(y_test, y_pred_knn, average='macro'):.4f}\")\n",
    "print(f\"Recall: {recall_score(y_test, y_pred_knn, average='macro'):.2f}\")\n",
    "print(f\"F1-Score: {f1_score(y_test, y_pred_knn, average='macro'):.2f}\")\n",
    "print(\"\\nConfusion Matrix:\")\n",
    "print(confusion_matrix(y_test, y_pred_knn))\n",
    "print(\"\\nClassification Report:\")\n",
    "print(classification_report(y_test, y_pred_knn))"
   ]
  }
 ],
 "metadata": {
  "kernelspec": {
   "display_name": "myenv",
   "language": "python",
   "name": "python3"
  },
  "language_info": {
   "codemirror_mode": {
    "name": "ipython",
    "version": 3
   },
   "file_extension": ".py",
   "mimetype": "text/x-python",
   "name": "python",
   "nbconvert_exporter": "python",
   "pygments_lexer": "ipython3",
   "version": "3.9.19"
  }
 },
 "nbformat": 4,
 "nbformat_minor": 2
}
