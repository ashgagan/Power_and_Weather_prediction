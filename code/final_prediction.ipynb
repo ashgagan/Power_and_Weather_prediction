{
 "cells": [
  {
   "cell_type": "code",
   "execution_count": 1,
   "metadata": {},
   "outputs": [],
   "source": [
    "import numpy as np\n",
    "import pandas as pd\n",
    "import matplotlib.pyplot as plt\n",
    "import seaborn as sns"
   ]
  },
  {
   "cell_type": "code",
   "execution_count": 2,
   "metadata": {},
   "outputs": [],
   "source": [
    "# importing the required modals\n",
    "\n",
    "import joblib\n",
    "\n",
    "# Load the saved models\n",
    "temperature_model = joblib.load('./models/temperature_model.pkl')\n",
    "humidity_model = joblib.load('./models/humidity_model.pkl')\n",
    "wind_speed_model = joblib.load('./models/wind_speed_model.pkl')\n",
    "power_model = joblib.load('./models/power_consumption.pkl')\n"
   ]
  },
  {
   "cell_type": "code",
   "execution_count": 3,
   "metadata": {},
   "outputs": [],
   "source": [
    "# importing data\n",
    "filePath = \"./Data/cleaned_weather_data.csv\"\n",
    "weather_data = pd.read_csv(filePath)\n",
    "weather_df = pd.DataFrame(weather_data)"
   ]
  },
  {
   "cell_type": "code",
   "execution_count": 4,
   "metadata": {},
   "outputs": [
    {
     "data": {
      "text/html": [
       "<div>\n",
       "<style scoped>\n",
       "    .dataframe tbody tr th:only-of-type {\n",
       "        vertical-align: middle;\n",
       "    }\n",
       "\n",
       "    .dataframe tbody tr th {\n",
       "        vertical-align: top;\n",
       "    }\n",
       "\n",
       "    .dataframe thead th {\n",
       "        text-align: right;\n",
       "    }\n",
       "</style>\n",
       "<table border=\"1\" class=\"dataframe\">\n",
       "  <thead>\n",
       "    <tr style=\"text-align: right;\">\n",
       "      <th></th>\n",
       "      <th>Datetime</th>\n",
       "      <th>Temperature (°C)</th>\n",
       "      <th>Atmospheric Pressure (kPa)</th>\n",
       "      <th>Precipitation mm/h</th>\n",
       "      <th>Solar Radiation (W/m2)</th>\n",
       "      <th>Vapor Pressure (kPa)</th>\n",
       "      <th>Humidity (%)</th>\n",
       "      <th>Wind Direction (°)</th>\n",
       "      <th>Wind Speed (m/s)</th>\n",
       "      <th>Hour</th>\n",
       "      <th>Day</th>\n",
       "      <th>Month</th>\n",
       "    </tr>\n",
       "  </thead>\n",
       "  <tbody>\n",
       "    <tr>\n",
       "      <th>0</th>\n",
       "      <td>2020-07-31 14:00:00+00:00</td>\n",
       "      <td>10.350000</td>\n",
       "      <td>101.491667</td>\n",
       "      <td>0.0</td>\n",
       "      <td>0.0</td>\n",
       "      <td>1.056667</td>\n",
       "      <td>84.183333</td>\n",
       "      <td>212.200000</td>\n",
       "      <td>0.331667</td>\n",
       "      <td>14</td>\n",
       "      <td>31</td>\n",
       "      <td>7</td>\n",
       "    </tr>\n",
       "    <tr>\n",
       "      <th>1</th>\n",
       "      <td>2020-07-31 15:00:00+00:00</td>\n",
       "      <td>10.783333</td>\n",
       "      <td>101.481667</td>\n",
       "      <td>0.0</td>\n",
       "      <td>0.0</td>\n",
       "      <td>1.095000</td>\n",
       "      <td>84.883333</td>\n",
       "      <td>257.433333</td>\n",
       "      <td>1.091667</td>\n",
       "      <td>15</td>\n",
       "      <td>31</td>\n",
       "      <td>7</td>\n",
       "    </tr>\n",
       "    <tr>\n",
       "      <th>2</th>\n",
       "      <td>2020-07-31 16:00:00+00:00</td>\n",
       "      <td>10.933333</td>\n",
       "      <td>101.463333</td>\n",
       "      <td>0.0</td>\n",
       "      <td>0.0</td>\n",
       "      <td>1.098333</td>\n",
       "      <td>83.966667</td>\n",
       "      <td>302.316667</td>\n",
       "      <td>1.023333</td>\n",
       "      <td>16</td>\n",
       "      <td>31</td>\n",
       "      <td>7</td>\n",
       "    </tr>\n",
       "    <tr>\n",
       "      <th>3</th>\n",
       "      <td>2020-07-31 17:00:00+00:00</td>\n",
       "      <td>10.033333</td>\n",
       "      <td>101.405000</td>\n",
       "      <td>0.0</td>\n",
       "      <td>0.0</td>\n",
       "      <td>1.076667</td>\n",
       "      <td>87.300000</td>\n",
       "      <td>269.500000</td>\n",
       "      <td>0.380000</td>\n",
       "      <td>17</td>\n",
       "      <td>31</td>\n",
       "      <td>7</td>\n",
       "    </tr>\n",
       "    <tr>\n",
       "      <th>4</th>\n",
       "      <td>2020-07-31 18:00:00+00:00</td>\n",
       "      <td>10.166667</td>\n",
       "      <td>101.378333</td>\n",
       "      <td>0.0</td>\n",
       "      <td>0.0</td>\n",
       "      <td>1.083333</td>\n",
       "      <td>87.133333</td>\n",
       "      <td>240.900000</td>\n",
       "      <td>0.515000</td>\n",
       "      <td>18</td>\n",
       "      <td>31</td>\n",
       "      <td>7</td>\n",
       "    </tr>\n",
       "  </tbody>\n",
       "</table>\n",
       "</div>"
      ],
      "text/plain": [
       "                    Datetime  Temperature (°C)  Atmospheric Pressure (kPa)  \\\n",
       "0  2020-07-31 14:00:00+00:00         10.350000                  101.491667   \n",
       "1  2020-07-31 15:00:00+00:00         10.783333                  101.481667   \n",
       "2  2020-07-31 16:00:00+00:00         10.933333                  101.463333   \n",
       "3  2020-07-31 17:00:00+00:00         10.033333                  101.405000   \n",
       "4  2020-07-31 18:00:00+00:00         10.166667                  101.378333   \n",
       "\n",
       "   Precipitation mm/h  Solar Radiation (W/m2)  Vapor Pressure (kPa)  \\\n",
       "0                 0.0                     0.0              1.056667   \n",
       "1                 0.0                     0.0              1.095000   \n",
       "2                 0.0                     0.0              1.098333   \n",
       "3                 0.0                     0.0              1.076667   \n",
       "4                 0.0                     0.0              1.083333   \n",
       "\n",
       "   Humidity (%)  Wind Direction (°)  Wind Speed (m/s)  Hour  Day  Month  \n",
       "0     84.183333          212.200000          0.331667    14   31      7  \n",
       "1     84.883333          257.433333          1.091667    15   31      7  \n",
       "2     83.966667          302.316667          1.023333    16   31      7  \n",
       "3     87.300000          269.500000          0.380000    17   31      7  \n",
       "4     87.133333          240.900000          0.515000    18   31      7  "
      ]
     },
     "execution_count": 4,
     "metadata": {},
     "output_type": "execute_result"
    }
   ],
   "source": [
    "weather_df.head()"
   ]
  },
  {
   "attachments": {},
   "cell_type": "markdown",
   "metadata": {},
   "source": [
    "**If models perfom similary on a similar test set, that would confirm that models were imported properly**"
   ]
  },
  {
   "cell_type": "markdown",
   "metadata": {},
   "source": [
    "Temperature"
   ]
  },
  {
   "cell_type": "code",
   "execution_count": 5,
   "metadata": {},
   "outputs": [],
   "source": [
    "# create a new column with the target temperature for the next day.\n",
    "weather_df['Target Temperature (°C)'] = weather_df['Temperature (°C)'].shift(-24)\n",
    "#Drop rows with NaN values created by shifting\n",
    "weather_df = weather_df.dropna()\n",
    "# X is the feature matrix\n",
    "X = weather_df.drop(columns=['Datetime', 'Temperature (°C)'])\n",
    "# y is the target vector (the 'Target Temperature' column)\n",
    "y = weather_df['Target Temperature (°C)']\n",
    "# Split the data into training and testing sets\n",
    "from sklearn.model_selection import train_test_split\n",
    "X_train, X_test, y_train, y_test = train_test_split(X, y, test_size=0.2, random_state=42)\n"
   ]
  },
  {
   "cell_type": "code",
   "execution_count": 6,
   "metadata": {},
   "outputs": [
    {
     "name": "stdout",
     "output_type": "stream",
     "text": [
      "RMSE: 1.234760845790507\n",
      "Mean Squared Error: 1.5246343462972884\n",
      "R² Score: 0.920217203914653\n"
     ]
    }
   ],
   "source": [
    "selected_features = [ 'Atmospheric Pressure (kPa)', 'Vapor Pressure (kPa)', 'Humidity (%)', 'Day', 'Hour', 'Wind Direction (°)', 'Month', 'Solar Radiation (W/m2)']\n",
    "\n",
    "\n",
    "temp_pred = temperature_model.predict(X_test[selected_features])\n",
    "\n",
    "\n",
    "# evaluation\n",
    "\n",
    "from sklearn.metrics import mean_squared_error, r2_score\n",
    "\n",
    "# Evaluate the model\n",
    "mse = mean_squared_error(y_test, temp_pred)\n",
    "r2 = r2_score(y_test, temp_pred)\n",
    "rmse = np.sqrt(mse)\n",
    "print(f\"RMSE: {rmse}\")\n",
    "print(f'Mean Squared Error: {mse}')\n",
    "print(f'R² Score: {r2}')"
   ]
  },
  {
   "cell_type": "markdown",
   "metadata": {},
   "source": [
    "# Predicting the weather conditions"
   ]
  },
  {
   "cell_type": "markdown",
   "metadata": {},
   "source": [
    "Temperature"
   ]
  },
  {
   "cell_type": "code",
   "execution_count": 7,
   "metadata": {},
   "outputs": [],
   "source": [
    "selected_features = [ 'Atmospheric Pressure (kPa)', 'Vapor Pressure (kPa)', 'Humidity (%)', 'Day', 'Hour', 'Wind Direction (°)', 'Month', 'Solar Radiation (W/m2)']\n",
    "temp_pred = temperature_model.predict(weather_df[selected_features])"
   ]
  },
  {
   "cell_type": "markdown",
   "metadata": {},
   "source": [
    "Humidity"
   ]
  },
  {
   "cell_type": "code",
   "execution_count": 8,
   "metadata": {},
   "outputs": [],
   "source": [
    "selected_features = ['Temperature (°C)', 'Atmospheric Pressure (kPa)', 'Vapor Pressure (kPa)', 'Wind Speed (m/s)', 'Hour', 'Day', 'Month']\n",
    "humidity_pred = humidity_model.predict(weather_df[selected_features])"
   ]
  },
  {
   "cell_type": "markdown",
   "metadata": {},
   "source": [
    "Wind Speed"
   ]
  },
  {
   "cell_type": "code",
   "execution_count": 9,
   "metadata": {},
   "outputs": [],
   "source": [
    "selected_features = ['Temperature (°C)', 'Atmospheric Pressure (kPa)', 'Solar Radiation (W/m2)', 'Vapor Pressure (kPa)', 'Humidity (%)', 'Wind Direction (°)', 'Wind Speed (m/s)', 'Hour', 'Day', 'Month']\n",
    "\n",
    "# Create a polynomial feature matrix\n",
    "from sklearn.preprocessing import PolynomialFeatures\n",
    "poly = PolynomialFeatures(degree=2)\n",
    "wind_poly = poly.fit_transform(weather_df[selected_features])\n",
    "# Predict the wind speed\n",
    "wind_speed_pred = wind_speed_model.predict(wind_poly)"
   ]
  },
  {
   "cell_type": "code",
   "execution_count": 10,
   "metadata": {},
   "outputs": [],
   "source": [
    "# Combine the predicted temperature, humidity, and wind speed\n",
    "power_model_input = np.column_stack((temp_pred, humidity_pred, wind_speed_pred, weather_df['Hour']))"
   ]
  },
  {
   "cell_type": "code",
   "execution_count": 11,
   "metadata": {},
   "outputs": [],
   "source": [
    "# convert the power_model_input to a DataFrame\n",
    "power_model_input_df = pd.DataFrame(power_model_input, columns=['Temperature', 'Humidity', 'WindSpeed', 'Hour'])"
   ]
  },
  {
   "cell_type": "markdown",
   "metadata": {},
   "source": [
    "**Predicting power consumption of next day**"
   ]
  },
  {
   "cell_type": "markdown",
   "metadata": {},
   "source": [
    "***Scaling***"
   ]
  },
  {
   "cell_type": "code",
   "execution_count": 12,
   "metadata": {},
   "outputs": [
    {
     "data": {
      "text/html": [
       "<div>\n",
       "<style scoped>\n",
       "    .dataframe tbody tr th:only-of-type {\n",
       "        vertical-align: middle;\n",
       "    }\n",
       "\n",
       "    .dataframe tbody tr th {\n",
       "        vertical-align: top;\n",
       "    }\n",
       "\n",
       "    .dataframe thead th {\n",
       "        text-align: right;\n",
       "    }\n",
       "</style>\n",
       "<table border=\"1\" class=\"dataframe\">\n",
       "  <thead>\n",
       "    <tr style=\"text-align: right;\">\n",
       "      <th></th>\n",
       "      <th>Temperature</th>\n",
       "      <th>Humidity</th>\n",
       "      <th>WindSpeed</th>\n",
       "      <th>Hour</th>\n",
       "    </tr>\n",
       "  </thead>\n",
       "  <tbody>\n",
       "    <tr>\n",
       "      <th>0</th>\n",
       "      <td>-1.397938</td>\n",
       "      <td>-0.077745</td>\n",
       "      <td>-0.291399</td>\n",
       "      <td>14.0</td>\n",
       "    </tr>\n",
       "    <tr>\n",
       "      <th>1</th>\n",
       "      <td>-1.443200</td>\n",
       "      <td>-0.069558</td>\n",
       "      <td>-0.439896</td>\n",
       "      <td>15.0</td>\n",
       "    </tr>\n",
       "    <tr>\n",
       "      <th>2</th>\n",
       "      <td>-1.547081</td>\n",
       "      <td>-0.007720</td>\n",
       "      <td>-0.336422</td>\n",
       "      <td>16.0</td>\n",
       "    </tr>\n",
       "    <tr>\n",
       "      <th>3</th>\n",
       "      <td>-1.652368</td>\n",
       "      <td>0.004165</td>\n",
       "      <td>-0.345635</td>\n",
       "      <td>17.0</td>\n",
       "    </tr>\n",
       "    <tr>\n",
       "      <th>4</th>\n",
       "      <td>-1.686814</td>\n",
       "      <td>0.010879</td>\n",
       "      <td>-0.206033</td>\n",
       "      <td>18.0</td>\n",
       "    </tr>\n",
       "  </tbody>\n",
       "</table>\n",
       "</div>"
      ],
      "text/plain": [
       "   Temperature  Humidity  WindSpeed  Hour\n",
       "0    -1.397938 -0.077745  -0.291399  14.0\n",
       "1    -1.443200 -0.069558  -0.439896  15.0\n",
       "2    -1.547081 -0.007720  -0.336422  16.0\n",
       "3    -1.652368  0.004165  -0.345635  17.0\n",
       "4    -1.686814  0.010879  -0.206033  18.0"
      ]
     },
     "execution_count": 12,
     "metadata": {},
     "output_type": "execute_result"
    }
   ],
   "source": [
    "from sklearn.preprocessing import MinMaxScaler\n",
    "from sklearn.preprocessing import StandardScaler\n",
    "from sklearn.preprocessing import RobustScaler\n",
    "\n",
    "# Initialize the scaler\n",
    "scaler = RobustScaler()\n",
    "#scaler = StandardScaler()\n",
    "# scaler = MinMaxScaler()\n",
    "\n",
    "# Normalize the features\n",
    "og = power_model_input_df[['Temperature', 'Humidity', 'WindSpeed']]\n",
    "power_model_input_df[['Temperature', 'Humidity', 'WindSpeed']] = scaler.fit_transform(power_model_input_df[['Temperature', 'Humidity', 'WindSpeed']])\n",
    "power_model_input_df.head()"
   ]
  },
  {
   "cell_type": "code",
   "execution_count": 13,
   "metadata": {},
   "outputs": [
    {
     "data": {
      "image/png": "[encoded data removed]",
      "text/plain": [
       "<Figure size 1200x600 with 2 Axes>"
      ]
     },
     "metadata": {},
     "output_type": "display_data"
    }
   ],
   "source": [
    "# Plot original data\n",
    "plt.figure(figsize=(12,6))\n",
    "plt.subplot(1, 2, 1)\n",
    "sns.histplot(og, kde=True)\n",
    "plt.title('Original Data Distribution')\n",
    "\n",
    "# After scaling\n",
    "plt.subplot(1, 2, 2)\n",
    "sns.histplot(power_model_input_df[['Temperature', 'Humidity', 'WindSpeed']], kde=True)\n",
    "plt.title('Scaled Data Distribution')\n",
    "plt.show()"
   ]
  },
  {
   "cell_type": "code",
   "execution_count": 14,
   "metadata": {},
   "outputs": [],
   "source": [
    "selected_features = ['Temperature', 'Humidity', 'WindSpeed','Hour']\n",
    "predicted_power_consumption = power_model.predict(power_model_input_df[selected_features])"
   ]
  },
  {
   "cell_type": "markdown",
   "metadata": {},
   "source": [
    "Evaluation"
   ]
  },
  {
   "cell_type": "code",
   "execution_count": 15,
   "metadata": {},
   "outputs": [],
   "source": [
    "# Add the predicted power consumption to the power_model_input\n",
    "power_model_input_df['PowerClass'] = predicted_power_consumption\n"
   ]
  },
  {
   "cell_type": "code",
   "execution_count": 16,
   "metadata": {},
   "outputs": [
    {
     "data": {
      "text/html": [
       "<div>\n",
       "<style scoped>\n",
       "    .dataframe tbody tr th:only-of-type {\n",
       "        vertical-align: middle;\n",
       "    }\n",
       "\n",
       "    .dataframe tbody tr th {\n",
       "        vertical-align: top;\n",
       "    }\n",
       "\n",
       "    .dataframe thead th {\n",
       "        text-align: right;\n",
       "    }\n",
       "</style>\n",
       "<table border=\"1\" class=\"dataframe\">\n",
       "  <thead>\n",
       "    <tr style=\"text-align: right;\">\n",
       "      <th></th>\n",
       "      <th>Temperature</th>\n",
       "      <th>Humidity</th>\n",
       "      <th>WindSpeed</th>\n",
       "      <th>Hour</th>\n",
       "      <th>PowerClass</th>\n",
       "    </tr>\n",
       "  </thead>\n",
       "  <tbody>\n",
       "    <tr>\n",
       "      <th>0</th>\n",
       "      <td>-1.397938</td>\n",
       "      <td>-0.077745</td>\n",
       "      <td>-0.291399</td>\n",
       "      <td>14.0</td>\n",
       "      <td>Moderate</td>\n",
       "    </tr>\n",
       "    <tr>\n",
       "      <th>1</th>\n",
       "      <td>-1.443200</td>\n",
       "      <td>-0.069558</td>\n",
       "      <td>-0.439896</td>\n",
       "      <td>15.0</td>\n",
       "      <td>Moderate</td>\n",
       "    </tr>\n",
       "    <tr>\n",
       "      <th>2</th>\n",
       "      <td>-1.547081</td>\n",
       "      <td>-0.007720</td>\n",
       "      <td>-0.336422</td>\n",
       "      <td>16.0</td>\n",
       "      <td>Moderate</td>\n",
       "    </tr>\n",
       "    <tr>\n",
       "      <th>3</th>\n",
       "      <td>-1.652368</td>\n",
       "      <td>0.004165</td>\n",
       "      <td>-0.345635</td>\n",
       "      <td>17.0</td>\n",
       "      <td>Moderate</td>\n",
       "    </tr>\n",
       "    <tr>\n",
       "      <th>4</th>\n",
       "      <td>-1.686814</td>\n",
       "      <td>0.010879</td>\n",
       "      <td>-0.206033</td>\n",
       "      <td>18.0</td>\n",
       "      <td>High</td>\n",
       "    </tr>\n",
       "  </tbody>\n",
       "</table>\n",
       "</div>"
      ],
      "text/plain": [
       "   Temperature  Humidity  WindSpeed  Hour PowerClass\n",
       "0    -1.397938 -0.077745  -0.291399  14.0   Moderate\n",
       "1    -1.443200 -0.069558  -0.439896  15.0   Moderate\n",
       "2    -1.547081 -0.007720  -0.336422  16.0   Moderate\n",
       "3    -1.652368  0.004165  -0.345635  17.0   Moderate\n",
       "4    -1.686814  0.010879  -0.206033  18.0       High"
      ]
     },
     "execution_count": 16,
     "metadata": {},
     "output_type": "execute_result"
    }
   ],
   "source": [
    "power_model_input_df.head()"
   ]
  },
  {
   "cell_type": "code",
   "execution_count": 17,
   "metadata": {},
   "outputs": [
    {
     "data": {
      "text/html": [
       "<div>\n",
       "<style scoped>\n",
       "    .dataframe tbody tr th:only-of-type {\n",
       "        vertical-align: middle;\n",
       "    }\n",
       "\n",
       "    .dataframe tbody tr th {\n",
       "        vertical-align: top;\n",
       "    }\n",
       "\n",
       "    .dataframe thead th {\n",
       "        text-align: right;\n",
       "    }\n",
       "</style>\n",
       "<table border=\"1\" class=\"dataframe\">\n",
       "  <thead>\n",
       "    <tr style=\"text-align: right;\">\n",
       "      <th></th>\n",
       "      <th>Temperature</th>\n",
       "      <th>Humidity</th>\n",
       "      <th>WindSpeed</th>\n",
       "      <th>Hour</th>\n",
       "    </tr>\n",
       "  </thead>\n",
       "  <tbody>\n",
       "    <tr>\n",
       "      <th>count</th>\n",
       "      <td>6.574000e+03</td>\n",
       "      <td>6.574000e+03</td>\n",
       "      <td>6574.000000</td>\n",
       "      <td>6574.000000</td>\n",
       "    </tr>\n",
       "    <tr>\n",
       "      <th>mean</th>\n",
       "      <td>-6.078290e-02</td>\n",
       "      <td>-8.405292e-02</td>\n",
       "      <td>0.093984</td>\n",
       "      <td>11.511865</td>\n",
       "    </tr>\n",
       "    <tr>\n",
       "      <th>std</th>\n",
       "      <td>8.094328e-01</td>\n",
       "      <td>7.015381e-01</td>\n",
       "      <td>0.768441</td>\n",
       "      <td>6.923816</td>\n",
       "    </tr>\n",
       "    <tr>\n",
       "      <th>min</th>\n",
       "      <td>-2.670814e+00</td>\n",
       "      <td>-2.427008e+00</td>\n",
       "      <td>-1.263132</td>\n",
       "      <td>0.000000</td>\n",
       "    </tr>\n",
       "    <tr>\n",
       "      <th>25%</th>\n",
       "      <td>-5.557221e-01</td>\n",
       "      <td>-5.384110e-01</td>\n",
       "      <td>-0.454662</td>\n",
       "      <td>6.000000</td>\n",
       "    </tr>\n",
       "    <tr>\n",
       "      <th>50%</th>\n",
       "      <td>3.594808e-16</td>\n",
       "      <td>3.190807e-16</td>\n",
       "      <td>0.000000</td>\n",
       "      <td>12.000000</td>\n",
       "    </tr>\n",
       "    <tr>\n",
       "      <th>75%</th>\n",
       "      <td>4.442779e-01</td>\n",
       "      <td>4.615890e-01</td>\n",
       "      <td>0.545338</td>\n",
       "      <td>18.000000</td>\n",
       "    </tr>\n",
       "    <tr>\n",
       "      <th>max</th>\n",
       "      <td>3.824662e+00</td>\n",
       "      <td>1.080358e+00</td>\n",
       "      <td>12.329166</td>\n",
       "      <td>23.000000</td>\n",
       "    </tr>\n",
       "  </tbody>\n",
       "</table>\n",
       "</div>"
      ],
      "text/plain": [
       "        Temperature      Humidity    WindSpeed         Hour\n",
       "count  6.574000e+03  6.574000e+03  6574.000000  6574.000000\n",
       "mean  -6.078290e-02 -8.405292e-02     0.093984    11.511865\n",
       "std    8.094328e-01  7.015381e-01     0.768441     6.923816\n",
       "min   -2.670814e+00 -2.427008e+00    -1.263132     0.000000\n",
       "25%   -5.557221e-01 -5.384110e-01    -0.454662     6.000000\n",
       "50%    3.594808e-16  3.190807e-16     0.000000    12.000000\n",
       "75%    4.442779e-01  4.615890e-01     0.545338    18.000000\n",
       "max    3.824662e+00  1.080358e+00    12.329166    23.000000"
      ]
     },
     "execution_count": 17,
     "metadata": {},
     "output_type": "execute_result"
    }
   ],
   "source": [
    "power_model_input_df.describe()"
   ]
  },
  {
   "cell_type": "code",
   "execution_count": 18,
   "metadata": {},
   "outputs": [
    {
     "data": {
      "text/plain": [
       "PowerClass\n",
       "Moderate    2609\n",
       "High        2258\n",
       "Low         1707\n",
       "Name: count, dtype: int64"
      ]
     },
     "execution_count": 18,
     "metadata": {},
     "output_type": "execute_result"
    }
   ],
   "source": [
    "power_model_input_df['PowerClass'].value_counts()"
   ]
  },
  {
   "cell_type": "markdown",
   "metadata": {},
   "source": [
    "The distribution of the classes show a reasonable prediction of the power consumption by the predicted weather conditions"
   ]
  }
 ],
 "metadata": {
  "kernelspec": {
   "display_name": "myenv",
   "language": "python",
   "name": "python3"
  },
  "language_info": {
   "codemirror_mode": {
    "name": "ipython",
    "version": 3
   },
   "file_extension": ".py",
   "mimetype": "text/x-python",
   "name": "python",
   "nbconvert_exporter": "python",
   "pygments_lexer": "ipython3",
   "version": "3.9.19"
  }
 },
 "nbformat": 4,
 "nbformat_minor": 2
}
